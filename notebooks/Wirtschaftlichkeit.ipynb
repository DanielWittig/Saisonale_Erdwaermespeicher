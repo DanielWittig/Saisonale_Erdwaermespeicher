{
 "cells": [
  {
   "cell_type": "markdown",
   "id": "d76a5a99-644a-4152-912a-b73f8f3f973b",
   "metadata": {},
   "source": [
    "# In welchen Kommunen lohnen sich saisonale Erdwärmespeicher?"
   ]
  },
  {
   "cell_type": "code",
   "execution_count": 1,
   "id": "d4bb4a33-c3ed-46f6-994e-54c29f25cefb",
   "metadata": {},
   "outputs": [],
   "source": [
    "from IPython.display import Markdown as md\n"
   ]
  },
  {
   "cell_type": "code",
   "execution_count": 2,
   "id": "42a4fb7c-2609-4296-b807-97f34cc9ff43",
   "metadata": {},
   "outputs": [],
   "source": [
    "min_Anschliesser_count = 5000\n",
    "max_Einzugsradius_km = 6"
   ]
  },
  {
   "cell_type": "markdown",
   "id": "cc46b696-5244-4a10-bd94-5646b4874c77",
   "metadata": {},
   "source": [
    "## Ergebnis"
   ]
  },
  {
   "cell_type": "code",
   "execution_count": 3,
   "id": "7c76a6a4-5e72-4ca2-aa68-054c36ce0e80",
   "metadata": {
    "jupyter": {
     "source_hidden": true
    },
    "tags": []
   },
   "outputs": [
    {
     "data": {
      "text/markdown": [
       "Eine Kommunale Solarheizung mit saisonalem Erwärmespeicher, Solarthermie und Wärmenetz lohnt sich überall dort, wo mindestens 5000 Anschließer auf einem Radius von weniger als 6 Kilomentern teilnehmen. ([Quelle](https://heliogaia.de/endergebnisse.html))"
      ],
      "text/plain": [
       "<IPython.core.display.Markdown object>"
      ]
     },
     "execution_count": 3,
     "metadata": {},
     "output_type": "execute_result"
    }
   ],
   "source": [
    "md(\"Eine Kommunale Solarheizung mit saisonalem Erwärmespeicher, Solarthermie und Wärmenetz lohnt sich überall dort, \\\n",
    "wo mindestens %i Anschließer auf einem Radius von weniger als %i Kilomentern teilnehmen. \\\n",
    "([Quelle](https://heliogaia.de/endergebnisse.html))\"%(min_Anschliesser_count, max_Einzugsradius_km))"
   ]
  },
  {
   "cell_type": "markdown",
   "id": "e1b2ff00-4bfc-4057-82d1-504b7af83e91",
   "metadata": {},
   "source": [
    "## Notes"
   ]
  },
  {
   "cell_type": "markdown",
   "id": "9f7e2e92-afd5-41d0-8885-86ecbd4ce0ce",
   "metadata": {},
   "source": [
    "### inline latex"
   ]
  },
  {
   "cell_type": "code",
   "execution_count": 10,
   "id": "bba0a743-bdc7-49a2-945d-d318c7acb93d",
   "metadata": {
    "jupyter": {
     "source_hidden": true
    },
    "tags": []
   },
   "outputs": [
    {
     "data": {
      "text/markdown": [
       "Good Morning! This yields $f_r = 2$ GHz and $Z_p = 3.450000$ mm."
      ],
      "text/plain": [
       "<IPython.core.display.Markdown object>"
      ]
     },
     "execution_count": 10,
     "metadata": {},
     "output_type": "execute_result"
    }
   ],
   "source": [
    "from IPython.display import Markdown as md\n",
    "\n",
    "fr=2 #GHz\n",
    "\n",
    "md(\"Good Morning! This yields $f_r = %i$ GHz and $Z_p = %f$ mm.\"%(fr, 3.45))"
   ]
  }
 ],
 "metadata": {
  "kernelspec": {
   "display_name": "Python 3 (ipykernel)",
   "language": "python",
   "name": "python3"
  },
  "language_info": {
   "codemirror_mode": {
    "name": "ipython",
    "version": 3
   },
   "file_extension": ".py",
   "mimetype": "text/x-python",
   "name": "python",
   "nbconvert_exporter": "python",
   "pygments_lexer": "ipython3",
   "version": "3.9.12"
  }
 },
 "nbformat": 4,
 "nbformat_minor": 5
}
